{
 "cells": [
  {
   "cell_type": "code",
   "execution_count": 1,
   "id": "abfaba4e",
   "metadata": {},
   "outputs": [],
   "source": [
    "i=2"
   ]
  },
  {
   "cell_type": "code",
   "execution_count": 4,
   "id": "a0ffcc55",
   "metadata": {},
   "outputs": [
    {
     "data": {
      "text/plain": [
       "2"
      ]
     },
     "execution_count": 4,
     "metadata": {},
     "output_type": "execute_result"
    }
   ],
   "source": [
    "i"
   ]
  },
  {
   "cell_type": "code",
   "execution_count": 5,
   "id": "61a054c8",
   "metadata": {},
   "outputs": [
    {
     "data": {
      "text/plain": [
       "int"
      ]
     },
     "execution_count": 5,
     "metadata": {},
     "output_type": "execute_result"
    }
   ],
   "source": [
    "type(i)"
   ]
  },
  {
   "cell_type": "code",
   "execution_count": 6,
   "id": "cb3b1c1e",
   "metadata": {},
   "outputs": [],
   "source": [
    "i=2.3"
   ]
  },
  {
   "cell_type": "code",
   "execution_count": 7,
   "id": "d67ffaf0",
   "metadata": {},
   "outputs": [
    {
     "data": {
      "text/plain": [
       "float"
      ]
     },
     "execution_count": 7,
     "metadata": {},
     "output_type": "execute_result"
    }
   ],
   "source": [
    "type(i)"
   ]
  },
  {
   "cell_type": "code",
   "execution_count": 8,
   "id": "fef4dc85",
   "metadata": {},
   "outputs": [
    {
     "data": {
      "text/plain": [
       "{'__name__': '__main__',\n",
       " '__doc__': 'Automatically created module for IPython interactive environment',\n",
       " '__package__': None,\n",
       " '__loader__': None,\n",
       " '__spec__': None,\n",
       " '__builtin__': <module 'builtins' (built-in)>,\n",
       " '__builtins__': <module 'builtins' (built-in)>,\n",
       " '_ih': ['', 'i=2', 'i', 'i', 'i', 'type(i)', 'i=2.3', 'type(i)', 'vars()'],\n",
       " '_oh': {2: 2, 3: 2, 4: 2, 5: int, 7: float},\n",
       " '_dh': ['C:\\\\Users\\\\nayadeth.jimenez\\\\Documents\\\\Python_Fundamentals'],\n",
       " 'In': ['', 'i=2', 'i', 'i', 'i', 'type(i)', 'i=2.3', 'type(i)', 'vars()'],\n",
       " 'Out': {2: 2, 3: 2, 4: 2, 5: int, 7: float},\n",
       " 'get_ipython': <bound method InteractiveShell.get_ipython of <ipykernel.zmqshell.ZMQInteractiveShell object at 0x00000257C64E9F70>>,\n",
       " 'exit': <IPython.core.autocall.ZMQExitAutocall at 0x257c65b56a0>,\n",
       " 'quit': <IPython.core.autocall.ZMQExitAutocall at 0x257c65b56a0>,\n",
       " '_': float,\n",
       " '__': int,\n",
       " '___': 2,\n",
       " '_i': 'type(i)',\n",
       " '_ii': 'i=2.3',\n",
       " '_iii': 'type(i)',\n",
       " '_i1': 'i=2',\n",
       " 'i': 2.3,\n",
       " '_i2': 'i',\n",
       " '_2': 2,\n",
       " '_i3': 'i',\n",
       " '_3': 2,\n",
       " '_i4': 'i',\n",
       " '_4': 2,\n",
       " '_i5': 'type(i)',\n",
       " '_5': int,\n",
       " '_i6': 'i=2.3',\n",
       " '_i7': 'type(i)',\n",
       " '_7': float,\n",
       " '_i8': 'vars()'}"
      ]
     },
     "execution_count": 8,
     "metadata": {},
     "output_type": "execute_result"
    }
   ],
   "source": [
    "vars()"
   ]
  },
  {
   "cell_type": "code",
   "execution_count": null,
   "id": "52422814",
   "metadata": {},
   "outputs": [],
   "source": []
  }
 ],
 "metadata": {
  "kernelspec": {
   "display_name": "Python 3",
   "language": "python",
   "name": "python3"
  },
  "language_info": {
   "codemirror_mode": {
    "name": "ipython",
    "version": 3
   },
   "file_extension": ".py",
   "mimetype": "text/x-python",
   "name": "python",
   "nbconvert_exporter": "python",
   "pygments_lexer": "ipython3",
   "version": "3.8.8"
  }
 },
 "nbformat": 4,
 "nbformat_minor": 5
}
